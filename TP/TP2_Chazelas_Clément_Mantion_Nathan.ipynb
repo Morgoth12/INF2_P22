{
 "cells": [
  {
   "cell_type": "markdown",
   "metadata": {},
   "source": [
    "# INF2 TP2"
   ]
  },
  {
   "cell_type": "markdown",
   "metadata": {},
   "source": [
    "# Chazelas Clément, Mantion Nathan"
   ]
  },
  {
   "cell_type": "markdown",
   "metadata": {},
   "source": [
    "# Exercice 1"
   ]
  },
  {
   "cell_type": "code",
   "execution_count": null,
   "metadata": {},
   "outputs": [],
   "source": [
    "#On définit la fonction\n",
    "def palindrome(mot):\n",
    "    #Condition de sortie de la récursivité, si, il ne reste plus ou une lettre à vérifier alors la vérification est terminée\n",
    "    if len(mot)==0 or len(mot)==1:\n",
    "        return True\n",
    "    #On vérifie l'égalité entre la première et la dernière lettre puis on relance la fonction avec le même mot sans les caractère vérifiés.\n",
    "    return mot[0]==mot[-1] and palindrome(mot[1:-1])\n",
    " \n",
    "#Ligne permettant d'entrer le mot à vérifier\n",
    "mot=input(\"Quel est le mot a vérifier ? \")\n",
    "#Utilisation de la fonction définie, puisqu'elle retroune un booléen on peut directement l'utiliser avec une condition\n",
    "#Le passage en majuscule permet de s'assurer de la bonne vérification par le programme\n",
    "if palindrome(mot.upper()):\n",
    "    print(\"Le mot est un palindrome\")\n",
    "#Dans le cas où le mot n'est pas un palindrome\n",
    "else:\n",
    "    print(\"Le mot n'est pas un palindrome\")\n"
   ]
  },
  {
   "cell_type": "raw",
   "metadata": {},
   "source": [
    "Nous avons cherché à trouver un schéma réplicable afin de vérifier le fait qu’un mot soit un palindrome, Il est donc apparu logique de vérifier à chaque récursion deux lettres équidistantes du centre du mot et de regarder leur égalité. Pour cela il nous suffit d’introduire à chaque fois le mot dans un programme qui vérifie la première et la dernière lettre du mot puis de relancer le programme avec le même mot sans les deux caractères vérifiés. Puis on ajoute une condition qui arrête la boucle \n",
    "s'il ne reste qu’un caractère au plus. Les récursions retournent des booléens couplé d’une condition en “and” permettant de valider ou non la palidromnité du mot entré initialement dans le programme.\n"
   ]
  },
  {
   "cell_type": "markdown",
   "metadata": {},
   "source": [
    "# Exercice 2"
   ]
  },
  {
   "cell_type": "code",
   "execution_count": null,
   "metadata": {},
   "outputs": [],
   "source": [
    "#1ere solution\n",
    "def crypter(ch) :\n",
    "    #Créaction d'une chaine de caractère qui reçevra chaque nouveau caractère\n",
    "    mot_décalé = \"\"\n",
    "    #Création d'un tuple qui évite les caractères de ponctuation et les espaces\n",
    "    ponctuation =('.', ',', ' ', '!', '?')\n",
    "    #Boucle de modification\n",
    "    for i in range(len(ch)) :\n",
    "        #si le caratère est une ponctuation, on l'ajoute dans la nouvelle chaine sans modification\n",
    "        if ch[i] in ponctuation :\n",
    "            mot_décalé+=(ch[i])\n",
    "        #Si le caractère et un \"z\", puisque le calcul pour toutes les autres lettre n'apporterait pas la bonne modification au \"z\"\n",
    "        #on le change manuellement en \"a\" qu'on ajoute dans la nouvelle chaine\n",
    "        elif ch[i] == 'z' :\n",
    "            mot_décalé+=('a')\n",
    "        #Même explication que précédement mais pour \"Z\"\n",
    "        elif ch[i] == 'Z' :\n",
    "            mot_décalé+=('A')\n",
    "        #On calcule le code unicode du caractère suivant que l'on change en caractère normal qu'on ajoute a notre nouvelle chaine\n",
    "        else :\n",
    "            mot_décalé+=chr(ord(ch[i])+1)\n",
    "    #On retourne la nouvelle chaine encodée\n",
    "    return mot_décalé\n",
    " \n",
    "print(crypter(input(\"Entrez un texte : \\n\")))\n",
    " \n",
    "#Autre solution\n",
    "from string import ascii_lowercase, ascii_letters, ascii_uppercase\n",
    "def crypter(ch):\n",
    "    #On choisit de combien de lettres on décale les caractères entrés\n",
    "    decal=1\n",
    "    #On regarde chaque lettre de l'alphabet minuscule et majuscule dans le sens inverse, sans cela, on se retrouverait avec une sortie composé de \"A\" et de \"a\"\n",
    "    for char in ascii_letters[::-1]:\n",
    "        #Vérification si le caractère est minuscule ou majuscule\n",
    "        if char in ascii_lowercase:\n",
    "            #On calcule la nouvelle lettre\n",
    "            index = ascii_lowercase.index(char)+decal%26\n",
    "            #On remplace chaque lettre par le caractère que l'on a trouvé\n",
    "            ch = ch.replace(char,ascii_lowercase[index])\n",
    "        #Même code mais pour les lettres majuscules afin de respecter la case\n",
    "        if char in ascii_uppercase:\n",
    "            index = ascii_uppercase.index(char)+decal\n",
    "            if index > 25:\n",
    "                index=index-26\n",
    "            ch = ch.replace(char,ascii_uppercase[index])\n",
    "    #On renvoie le résultat\n",
    "    return ch\n",
    " \n",
    "print(crypter(input(\"Entrez un texte : \\n\")))\n"
   ]
  },
  {
   "cell_type": "markdown",
   "metadata": {},
   "source": [
    "Nous avons choisi de travailler tous deux sur deux manières différentes de procéder, \n",
    "\n",
    "La première, consiste à créer une nouvelle chaîne de caractères puis d’y ajouter un à un les caractères modifiés. Pour modifier les caractères, on analyse la chaîne entrée lors du lancement de la fonction caractère par caractère, si ce caractère est une lettre minuscule ou majuscule, on prends son code unicode, on ajoute 1 puis on convertit ce code en un caractère qui est ajouté dans la chaîne vide définie au début de la fonction. Exception faite au “z” et “Z” pour lesquels on ajoute une condition spéciale et on indique la modification à faire, à savoir “z”=”a” et “Z”=”A”\n",
    "\n",
    "La deuxième méthode fonctionne avec les listes des caractères ascii. On va modifier avec la fonction “replace” les caractères non pas caractères par caractère mais groupe de caractères par groupes de caractères (tous les “a”, tous les “E”, etc…) Pour cela à l’aide du module “string” on prend une liste de toutes les lettres majuscules et minuscules. Puisque ces dernières sont dans l’ordre alphabétique, on additionne ensuite l’index du caractère dans la liste avec la valeur du décalage que l’on souhaite opérer (dans notre cas, 1), pour s’assurer de ne pas dépasser l’index maximal de la liste et de revenir au début de la liste si on dépasse, on utilise l’opérateur modulo (%). Une fois le nouveau caractère calculé, on remplace tous les anciens caractères par les nouveaux. Pour s’assurer de ne pas modifier des caractères qui ont déjà été modifiés avant, on remonte la liste de la fin au début. On différencie majuscule et minuscule pour ne pas changer une majuscule en minuscule et inversement.\n"
   ]
  },
  {
   "cell_type": "markdown",
   "metadata": {},
   "source": [
    "# Exercice 3"
   ]
  },
  {
   "cell_type": "code",
   "execution_count": null,
   "metadata": {},
   "outputs": [],
   "source": [
    "from string import ascii_lowercase, ascii_uppercase #On importe l'alphabet minuscule et l'alphabet majuscule\n",
    "\n",
    "def nb_min(password) :\n",
    "    min =0\n",
    "    for i in password :\n",
    "        if i in ascii_lowercase : #On regarde un à un les caractères du password et si ils appartienent aux lettres minuscules on incrémente le compteur de 1\n",
    "            min = min + 1\n",
    "    return min \n",
    "\n",
    "def nb_maj(password) :\n",
    "    maj =0\n",
    "    for i in password :\n",
    "        if i in ascii_uppercase : #On regarde un à un les caractères du password et si ils appartienent aux lettres majuscule on incrémente le compteur de 1\n",
    "            maj = maj + 1\n",
    "    return maj \n",
    "\n",
    "def nb_alpha(password) :\n",
    "    x = 0\n",
    "    for i in password :\n",
    "        if i not in ascii_lowercase and i not in ascii_uppercase : #On regarde un à un les caractères du password et si ils n'appartienent pas aux lettres minuscules ou majuscules on incrémente le compteur de 1\n",
    "            x = x +1\n",
    "    return x    \n",
    "\n",
    "def long_min(password) :\n",
    "    longueur_max = 0\n",
    "    longueur = 0\n",
    "    for i in password :\n",
    "        if i in ascii_lowercase : #On regarde un à un les caractères du password et si c'est une minuscule on incrémente la longueur de 1\n",
    "            longueur = longueur + 1\n",
    "            if longueur > longueur_max : #On fait ceci car si le mdp se termine par une minuscule on ne rentre pas dans la boucle d'après et la dernière chaîne de lettres minuscules n'est pas prise en compte\n",
    "                longueur_max = longueur\n",
    "        else :\n",
    "            if longueur > longueur_max : #Ceci nous permet de garder en mémoire la longueure de la plus grande chaîne de minuscule\n",
    "                longueur_max = longueur\n",
    "            longueur = 0 #On réinitialise la longueur à 0 pour la prochaine chaîne de lettres minuscule, s'il y en a\n",
    "    return longueur_max\n",
    "\n",
    "def long_maj(password) :\n",
    "    longueur_max = 0\n",
    "    longueur = 0\n",
    "    for i in password : \n",
    "        if i in ascii_uppercase : #On regarde un à un les caractères du password et si c'est une majuscule on incrémente la longueur de 1\n",
    "            longueur = longueur + 1\n",
    "            if longueur > longueur_max : #On fait ceci car si le mdp se termine par une majuscule on ne rentre pas dans la boucle d'après et la dernière chaîne de lettres majuscule n'est pas prise en compte\n",
    "                longueur_max = longueur\n",
    "        else :\n",
    "            if longueur > longueur_max : #Ceci nous permet de garder en mémoire la longueure de la plus grande chaîne de majuscule\n",
    "                longueur_max = longueur\n",
    "            longueur = 0 #On réinitialise la longueur à 0 pour la prochaine chaîne de lettres majuscule, s'il y en a\n",
    "    return longueur_max\n",
    "\n",
    "def score(password) :\n",
    "    score_password = 4*len(password) + 2*(len(password) - nb_maj(password)) + 3*(len(password) - nb_min(password)) + 5*nb_alpha(password) - 3*long_maj(password) - 2*long_min(password) #On calcule le score avec la convention qui nous a été fournie\n",
    "    if score_password < 20 :\n",
    "        return 'Très faible'\n",
    "    elif score_password < 40 :\n",
    "        return 'Faible'\n",
    "    elif score_password < 80 :\n",
    "        return 'Fort'\n",
    "    else :\n",
    "        return 'Très fort'\n",
    "\n",
    "\n",
    "\n",
    "mot_de_passe = input('Entrez votre mot de passe : \\n')\n",
    "print(score(mot_de_passe))"
   ]
  },
  {
   "cell_type": "raw",
   "metadata": {},
   "source": [
    "On a tout d'abord commencé par créer la fonction nb_min qui compte le nombre de minuscule. Pour ce faire, nous avons utilisé la fonction ascii_lowercase, qui est une chaîne de caractère contenant toutes les minuscules, que nous avions importer précedemment à l'aide du module string. Le code va donc regarder un à un les caractères de la chaîne de caractères qui a été entrée par l'utilisateur et si ils sont présent dans ascii_lowercase alors on incrémente un compteur de 1. A la fin on renvoit ce compteur qui correspond donc au nombre de lettres minuscules dans la chaîne de caractère saisie par l'utilisateur.\n",
    "Nous avons utilisé le même procédé pour la fonction nb_maj, qui sert à compter le nombre de majuscule. Cependant, nous avons remplacé ascii_lowercase par ascii_uppercase, qui correspond aux lettres majuscules de l'alphabet, que nous avons importé en même temps que ascii_lowercase.\n",
    "Nous avons encore une fois réutilisé cette méthode pour la fonction nb_alpha. Cette fois-ci on a regardé les caractères qui n'étaient ni dans ascii_lowercase ni dans ascii_uppercase, le tout suivit d'une incrémentation d'un compteur renvoyant le nombre de caractères non alaphabétiques à la fin.\n",
    "Pour la fonction long_min, on commence par créer 2 variables : longueur et longueur_max. On réutilise la fonction ascii_lowercase afin de détecter si le caractère est une minuscule, si oui on incrémente la variable longueur de 1 et si la valeur stockée dans longueur est plus grande que celle de longueur_max alors cette dernière prendra la valeur de longueur, cela permet de stocker dans longueur_max la taille de la plus grande chaîne de caractères minuscules, et également d'éviter que la dernière chaîne de lettres minuscules ne soit pas prise en compte si le texte finit par une minuscule puisqu'on ne rentrera pas dans la boucle suivante. Ensuite, si le carctère n'est pas une minuscule si la valeur de longueur est supérieure à celle de longueur_max cette dernière prend la valeur de longueur. Cela permet de stocker dans longueur_max la taille de la plus grande chaine de caractère minuscule. On réinitialise ensuite longeur à 0 puisqu'on va commencer à compter une nouvelle chaîne, s'il y en a une. Enfin, la fonction retournera la valeur de longueur_max, qui correspond donc à la taille de la plus grande chaîne de lettres minuscules.\n",
    "Nous avons opérés de la même façon pour la fonction long_max en remplaçant ascii_lowercase par ascii_uppercase.\n",
    "Enfin, pour la fonction score nous avons calculé le score du mot de passe fournit par l'utilisateur en utilisant les données qui nous ont étés données et en utilisant toutes les fonctions que nous avions définies auparavant. Il ne reste plus qu'a définir ce que l'on renvoi en fonction de la valeur du score."
   ]
  }
 ],
 "metadata": {
  "kernelspec": {
   "display_name": "Python 3",
   "language": "python",
   "name": "python3"
  },
  "language_info": {
   "codemirror_mode": {
    "name": "ipython",
    "version": 3
   },
   "file_extension": ".py",
   "mimetype": "text/x-python",
   "name": "python",
   "nbconvert_exporter": "python",
   "pygments_lexer": "ipython3",
   "version": "3.8.3"
  }
 },
 "nbformat": 4,
 "nbformat_minor": 4
}
