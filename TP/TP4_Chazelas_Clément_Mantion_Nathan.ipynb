{
 "cells": [
  {
   "cell_type": "markdown",
   "id": "2a7f8fab",
   "metadata": {},
   "source": [
    "# INF2 TP4"
   ]
  },
  {
   "cell_type": "markdown",
   "id": "da3c7e1b",
   "metadata": {},
   "source": [
    "# Chazelas Clément, Mantion Nathan"
   ]
  },
  {
   "cell_type": "markdown",
   "id": "8b1837b3",
   "metadata": {},
   "source": [
    "# Exercice 1"
   ]
  },
  {
   "cell_type": "code",
   "execution_count": 2,
   "id": "98e90b78",
   "metadata": {},
   "outputs": [
    {
     "name": "stdout",
     "output_type": "stream",
     "text": [
      "Entrer la valeur pour NCIN du candidat  >  sz\n",
      "Entrer la valeur pour NOM du candidat  >  oui\n",
      "Entrer la valeur pour PRENOM du candidat  >  lama\n",
      "Entrer la valeur pour AGE du candidat  >  18\n",
      "Entrer la valeur pour DECISION du candidat  >  admis\n",
      "\n",
      "Candidat suivant, appuyez sur entrée pour terminer la saise.\n",
      "\n",
      "Entrer la valeur pour NCIN du candidat  >  \n",
      "\n",
      "Fin de la saisie\n",
      "\n",
      "Pourcentage des candidats refusés = 0.0%\n"
     ]
    },
    {
     "data": {
      "image/png": "[encoded data removed]",
      "text/plain": [
       "<Figure size 432x288 with 1 Axes>"
      ]
     },
     "metadata": {},
     "output_type": "display_data"
    },
    {
     "name": "stdout",
     "output_type": "stream",
     "text": [
      "Pourcentage des candidats admis = 100.0%\n"
     ]
    },
    {
     "data": {
      "image/png": "[encoded data removed]",
      "text/plain": [
       "<Figure size 432x288 with 1 Axes>"
      ]
     },
     "metadata": {},
     "output_type": "display_data"
    },
    {
     "name": "stdout",
     "output_type": "stream",
     "text": [
      "Pourcentage des candidats ajournés = 0.0%\n"
     ]
    },
    {
     "data": {
      "image/png": "[encoded data removed]",
      "text/plain": [
       "<Figure size 432x288 with 1 Axes>"
      ]
     },
     "metadata": {},
     "output_type": "display_data"
    }
   ],
   "source": [
    "import matplotlib.pyplot as plt\n",
    "def saisir(): #défintion de la fonction\n",
    "    stillon=True #Variable vérifiant si la saisie continue toujours\n",
    "    args=[\"NCIN\",\"NOM\",\"PRENOM\",\"AGE\",\"DECISION\"] #Liste des arguments données pour l'utilisateur\n",
    "    f=open(\"concours.txt\",\"w+\") #ouverture du fichier pour écriture\n",
    "    while stillon: #Début de la boucle\n",
    "        candidat=\"\" #Variable de la saisie du candidat\n",
    "        valid=True #Varianle vérifiant la validité de la saise utilisateur\n",
    "        for arg in args: #Boucle permettant une entrée par caractérisitique du candidat\n",
    "            entree = input(f\"Entrer la valeur pour {arg} du candidat  >  \") #entrée utilisateur\n",
    "       \n",
    "            if entree == \"\" and arg == \"NCIN\": #Condition de fin de saisie, si la saisie est vide, la boucle s'arrête\n",
    "                stillon = False #indication de la fin de la saisie\n",
    "                valid=False #Indication que la variable \"candidat\" a venir n'est pas une saisie a entrer dans le fichier\n",
    "                break #sortie de la boucle de saise d'un utilisateur\n",
    "            if entree ==\"\": #vérification de la non-nullité de la variable entrée\n",
    "                print(\"Entrée vide.\\nMerci de recommencer la saisie du candidat\\n\") #Notification d'une erreur à l'utilisateur, pour éviter tout problèmes on recommencera la saisie candidat depuis le début\n",
    "                valid=False #Indiaction que l'entrée n'est pas valide\n",
    "                break #Sortie de la boucle pour en revenir au début\n",
    "            if arg == \"AGE\": #Vérification de la validité des données pour l'age\n",
    "                try:\n",
    "                    int(entree) #Si l'age est bien un nombre, la saisie est valide\n",
    "                except ValueError: #si ce n'est pas un nombre, l'utilsateur en est notifié et la saisie du candidat recommence depuis le début\n",
    "                    print(\"Entrée non valide, l'age doit être un entier\\nMerci de recommencer la saisie du candidat\\n\")\n",
    "                    valid=False\n",
    "                    break\n",
    "            if arg == \"DECISION\": #Vérifiaction de la validité des données pour la décision\n",
    "                pos = [\"admis\",\"refusé\",\"ajourné\"]\n",
    "                if not entree in pos: # Si la décision entrée n'est pas valide, l'utilsateur en est notifié et la saisie du candidat recommence depuis le début\n",
    "                    print(\"Entrée non valide, la décision ne peut avoir que trois valeurs 'admis' 'refusé' et 'ajourné'.\\nMerci de recommencer la saisie du candidat\\n\")\n",
    "                    valid=False\n",
    "                    break\n",
    "            candidat += entree +\";\" #Ajout du point virgule de sépratation\n",
    "        if valid: #Si la saise est valide, on l'inscrit dans le fichier\n",
    "            f.write(candidat+\"\\n\") #L'ajout du \"\\n\" permet de sauter une ligne\n",
    "            print(\"\\nCandidat suivant, appuyez sur entrée pour terminer la saise.\\n\") #Notification a l'utilisateur que l'on passe a la saisie suivante\n",
    "    print(\"\\nFin de la saisie\\n\") #Lorsque la saisie est finir, on en notifie l'utilisateur\n",
    "    f.close() #Fermeture de l'instance du fichier\n",
    " \n",
    "def admis(): #défintion de la fonction\n",
    "    concours = open(\"concours.txt\",\"r\") #Ouverture du fichier avec les résultats du concours\n",
    "    admis = open(\"admis.txt\",\"w+\") # ouverture du fichier des admis\n",
    "    for entree in concours.read().split(\"\\n\"): #On crée une liste a partir du contenu, puisqu'il y a un candidat par liste, on prends le saut de ligne comme séparateur\n",
    "        if entree[-6:] == \"admis;\": #Puisque le dernier élément entré est le résultat, on vérifie si la chaine finit par une admission\n",
    "            admis.write(entree+\"\\n\") #Si le candidat est admis, on ajoute le nom au fichier\n",
    "    concours.close() #fermeture des instances de fichier\n",
    "    admis.close()\n",
    " \n",
    "def attente(): #défintion de la fonction\n",
    "    admis = open(\"admis.txt\",\"r\") #Ouverture du fichier des admis\n",
    "    attente = open(\"attente.txt\",\"w+\") # Ouverture du fichier des personnes en attente\n",
    "    entrees = admis.read().split(\"\\n\") #On sépare les candidats comme dans la fonction précédente\n",
    "    entrees.pop() #On enlève le dernier élément de la liste qui est une liste vide due au dernier saut de ligne\n",
    "    for entree in entrees:\n",
    "        entree = entree.split(\";\") #On convertit la chaine du candidat en liste pour vérifier plus facilement la condition d'age\n",
    "        if int(entree[3]) > 30: #L'age étant la 4e information entrée, elle aparait à l'index 3 de la liste du candidat, on le convertit en entier puis on vérifie s'il est supérieur a 30\n",
    "            attente.write(f\"{entree[0]};{entree[1]};{entree[2]}\"+\"\\n\") #Si il est supérieur a 30 on ajoute les informations du candidat dans le fichier\n",
    "    admis.close() #Fermeture des instances de fichier\n",
    "    attente.close()\n",
    " \n",
    "def statistique(dec): #défintion de la fonction\n",
    "    concours = open(\"concours.txt\",\"r\") #Ouverture du fichier des résultats du concours\n",
    "    ajourne=0 #Définition des variable pour compter les résultats et le total\n",
    "    admis=0\n",
    "    refuse=0\n",
    "    tot=0\n",
    "    for candidat in concours.read().split(\"\\n\"): #On sépare les candidats comme dans la fonction précédente\n",
    "        if candidat[-8:] == \"ajourné;\": # Comme dans la fonction admis() on vérifie le résultat de chaque candidat\n",
    "            ajourne +=1 #En fonction du résultat, on ajoute 1 au compteur correspondant\n",
    "            tot+=1 #Et 1 au compteur total\n",
    "        if candidat[-6:] == \"admis;\":\n",
    "            admis +=1\n",
    "            tot+=1\n",
    "        if candidat[-7:] == \"refusé;\":\n",
    "            refuse +=1\n",
    "            tot+=1\n",
    "   \n",
    "    if dec == \"admis\": #L'énoncé demandant l'affichage d'un pourcentage en fonction de l'entrée dans la fonction on vérifie la décision entrée\n",
    "        print(f\"Pourcentage des candidats admis = {round((admis/tot)*100,2)}%\") #Puis on en cacule le pourcentage arrondi à 2 chiffres aprés la virgule qu'on affiche\n",
    "    elif dec == \"refusé\":\n",
    "        print(f\"Pourcentage des candidats refusés = {round((refuse/tot)*100,2)}%\")\n",
    "    elif dec == \"ajourné\":\n",
    "        print(f\"Pourcentage des candidats ajournés = {round((ajourne/tot)*100,2)}%\")\n",
    " \n",
    "    plt.pie((admis,refuse,ajourne),labels=[f\"Admis ({round((admis/tot)*100,2)}%)\",f\"Refusé ({round((refuse/tot)*100,2)}%)\",f\"Ajourné ({round((ajourne/tot)*100,2)}%)\"],normalize=True) #Création du camembert, on met en légende le résultat ainsi que le pourcentage pour faciliter la lecture du graphique\n",
    "    plt.show() #On montre le graphique\n",
    " \n",
    "def supprimer(): #défintion de la fonction\n",
    "    admis = open(\"admis.txt\",\"r\") #Ouverture du fichier des admis\n",
    "    admission = admis.read().split(\"\\n\") #On sépare les candidats comme dans la fonction précédente\n",
    "    admis.close() #Fermeture de l'instance en lecture\n",
    "    admis = open(\"admis.txt\",\"w+\") #Pour réouvrir le fichier en écriture\n",
    "    admission.pop() #On enlève la dernière ligne qui n'est qu'une ligne vide (le dernier saut de ligne donnant sur rien)\n",
    "    for entree in admission: #Boucle pour vérifier chauqe candidat\n",
    "        if int(entree.split(\";\")[3]) <= 30: #On vérifie si le candidat à moins de 30 ans\n",
    "            admis.write(entree+\"\\n\") #Si oui, on l'inscrit dans le fichier\n",
    "    admis.close() #Fermeture de l'instance fichier\n",
    " \n",
    " \n",
    "if __name__ == \"__main__\":\n",
    "    saisir() #Saisie des candidats\n",
    "    admis() #on crée le fichier des candidats admis\n",
    "    attente() #On crée le fichier des candidats en attente\n",
    "    statistique(\"refusé\") #On montre le pourcentage des candidats refusés\n",
    "    statistique(\"admis\") #On montre le pourcentage des candidats admis\n",
    "    statistique(\"ajourné\") #On montre le pourcentage des candidats ajournés\n",
    "    supprimer() #On supprime du fichier des admis les candidats en attente\n"
   ]
  },
  {
   "cell_type": "markdown",
   "id": "413b33a6",
   "metadata": {},
   "source": [
    "Dans un premier temps,pour la fonction saisie() nous avons opté pour une boucle While True avant d’en faire le quasi équivalent avec la variable stillon qui avait sensiblement le même effet mais avec un meilleur contrôle de la boucle dans la suite du programme. La saisie continue donc tant que l’utilisateur n’entre pas une ligne vide au début de la saisie d’un candidat. On ajoute des vérification de données afin de s’assurer qu’il n’y aura pas de problèmes lors de l’exécution des autres fonctions dépendantes du fichier créé. Pour la fonction admis nous avons cherché le point commun de toutes les entrées contenant des candidats admis, nous avons trouvé qu’elles se finissent toutes par “admis;” nous l’avons donc mis en condition pour l’écrire dans le fichier admis.txt. Nous avons d’ailleurs travaillé de la même façon pour compter les candidats en fonction de leur résultat pour la fonction statistique(). Pour la fonction attente nous avons là aussi cherché à trouver comment différencier un candidat de plus 30 ans d’un autre. Nous ne pouvions utiliser la vérification sur un index précis de caractères car ils varient en fonction du nom, prénom et résultat du candidat. Puisque chaque information d’un candidat est séparée par un “;” nous avons alors choisi de créer une liste a avec la méthode split() en entrant “;” comme séparateur puis en vérifiant l’information à l'index 3 c’est à dire à l’index de l'âge (en n'oubliant pas de le convertir en entier pour utiliser les comparateurs). Nous avons fait de même pour la fonction supprimer()."
   ]
  },
  {
   "cell_type": "markdown",
   "id": "b7b4fc72",
   "metadata": {},
   "source": [
    "# Exercice 2"
   ]
  },
  {
   "cell_type": "markdown",
   "id": "981bcbe6",
   "metadata": {},
   "source": [
    "### Question 1"
   ]
  },
  {
   "cell_type": "code",
   "execution_count": null,
   "id": "697a98d4",
   "metadata": {},
   "outputs": [],
   "source": [
    "from turtle import color\n",
    "import numpy as np\n",
    "import matplotlib.pyplot as plt\n",
    "\n",
    "def cercle(x ,y ,r) :\n",
    "    figure, axes = plt.subplots()\n",
    "    axes.set_aspect(1)\n",
    "    plt.xlim(-r - 5 ,r + 5)     #On défini la taille de l'affichage\n",
    "    plt.ylim(-r - 5, r + 5)\n",
    "    for i in range(r) :    #On fait une boucle afin de tracer le nombre de cercles corespondant à la taille du rayon\n",
    "        couleur= input(\"Choisissez la couleur de ce cercle parmis blue/green/red/cyan/magenta/yellow/black/maroon : \\n\")    #On demande à l'utilisateur de choisir la couleur du cercle parmis différentes couleurs proposées\n",
    "        draw_circle = plt.Circle((x, y), r,fill=False, color=couleur)   #On crée le cercle de centre (x,y) et de rayon r de la couleur choisie précedement\n",
    "        axes.add_artist(draw_circle)\n",
    "        r = r - 1    #On diminue le rayon afin que le prochain cercle soit de même centre mais plus petit\n",
    "    plt.title('Cercle')\n",
    "    plt.show()\n",
    "\n",
    "def main() :\n",
    "    x = int(input(\"Entrez les abscisses du centre du cercle :  \"))\n",
    "    y = int(input(\"Entrez les abscisses du centre du cercle :  \"))\n",
    "    r = int(input(\"Entrez le rayon du cercle :  \"))\n",
    "    cercle(x,y,r)\n",
    "\n",
    "if __name__ == '__main__' :\n",
    "    main()"
   ]
  },
  {
   "cell_type": "markdown",
   "id": "97abbf11",
   "metadata": {},
   "source": [
    "On commence par importer les librairies qui nous seront utiles : turtle pour la couleur, numpy et matplotlib pour le graphique. On crée ensuite notre fonction cercle dans laquelle on commencera par paramétrer les axes du graphique et la taille de ce dernier. On fait ensuite une boucle in range(r) dans le but de tracer le nombre de cercle correspondant au rayon entré par l'utilisateur. On demandera à chaque fois à l'utilisateur le choix d'une couleur pour le cercle parmis plusieurs. On trace ensuite le cercle et on diminue le rayon de 1 afin que le prochain cercle soit plus petit (il aurait également été possible de le faire en incrémentant r à la place). On donne ensuite un titre à notre graphique et on l'affiche à l'écran. \n",
    "Dans le main l'utilisateur pourra rentrer les coordonnées du centre de la figure et le rayon, soit le nombre de cercle."
   ]
  },
  {
   "cell_type": "markdown",
   "id": "617d0a5a",
   "metadata": {},
   "source": [
    "### Question 2"
   ]
  },
  {
   "cell_type": "code",
   "execution_count": null,
   "id": "254138a0",
   "metadata": {},
   "outputs": [],
   "source": [
    "from turtle import color\n",
    "import numpy as np\n",
    "import matplotlib.pyplot as plt\n",
    "\n",
    "def cercle(x ,y ,r) :\n",
    "    figure, axes = plt.subplots() \n",
    "    axes.set_aspect(1)\n",
    "    z = int(input(\"Entrez la taille de la pyramide :  \")) #On demande à l'utilisateur la taille de la pyramide\n",
    "    plt.xlim(-r - z*2*r ,r + z*2*r)  #On défini la taille de l'affichage\n",
    "    plt.ylim(-r - z*2*r, r + z*2*r)\n",
    "    for i in range(z) :\n",
    "        for j in range(z - i) :   #On fait une boucle dans une boucle afin de pouvoir afficher une pyramide\n",
    "            couleur= input(\"Choisissez la couleur de ce cercle parmis blue/green/red/cyan/magenta/yellow/black/maroon : \\n\")    #On demande à l'utilisateur de choisir la couleur du cercle parmis différentes couleurs proposées\n",
    "            draw_circle = plt.Circle((x, y), r,fill=False, color=couleur)   #On crée le cercle de centre (x,y) et de rayon r de la couleur choisie précedement\n",
    "            axes.add_artist(draw_circle)    #On trace le cercle\n",
    "            x = x + 2*r     #On se décale du diamètre sur l'axe des abscisses afin que le prochain cercle soit collé à celui que l'on vient de tracer\n",
    "        x = x - (z-i-0.5)*2*r   #Une fois la ligne fini (boucle for j) on replace les abscisses un rayon plus loins que la ligne du dessous\n",
    "        y = y + 2*r     #Comme la ligne est finie on passe à celle plus haut en augmentant les ordonnées du diamètre\n",
    "    plt.title('Pyramide de cercle')     #On met un titre au graphique\n",
    "    plt.show()      #On affiche le graphique\n",
    "\n",
    "def main() :\n",
    "    x = int(input(\"Entrez les abscisses du centre du cercle :  \"))\n",
    "    y = int(input(\"Entrez les abscisses du centre du cercle :  \"))\n",
    "    r = int(input(\"Entrez le rayon du cercle :  \"))\n",
    "    cercle(x,y,r)\n",
    "\n",
    "if __name__ == '__main__' :\n",
    "    main()"
   ]
  },
  {
   "cell_type": "markdown",
   "id": "dd737893",
   "metadata": {},
   "source": [
    "On commence par importer les librairies qui nous seront utiles : turtle pour la couleur, numpy et matplotlib pour le graphique. On crée ensuite notre fonction cercle dans laquelle on commencera par paramétrer les axes du graphique et la taille de ce dernier. On commence par demander à l'utilisateur la taille de la pyramide de cercle qu'il souhaite créer (cette dernière corespond au nombre de cercle de la base de la pyramide). On fait ensuite une boucle dans une boucle afin de créer une pyramide. La boucle j s'occupera de faire les lignes et la boucle i s'occupe de \"dire\" à la boucle j le nombre de cercle par ligne. On utilise la même méthode que dans la question 1 pour tracer un cercle de couleur. à la fin de la boucle j on va se replacer une un diamètre plus haut et plus à droite que le centre du premier cercle afin de commencer une nouvelle ligne. Une fois les 2 boucles finies on affiche le graphique.\n",
    "Dans le main l'utilisateur pourra rentrer les coordonnées du centre du premier cercle de la pyramide et le rayon des cercles qui composerant cette dernière. "
   ]
  },
  {
   "cell_type": "markdown",
   "id": "ed1046af",
   "metadata": {},
   "source": [
    "# Exercice 3"
   ]
  },
  {
   "cell_type": "markdown",
   "id": "3daaa30e",
   "metadata": {},
   "source": [
    "### Version 1 "
   ]
  },
  {
   "cell_type": "code",
   "execution_count": null,
   "id": "15260075",
   "metadata": {},
   "outputs": [],
   "source": [
    "from math import cos #Importation de la fonction cosinus\n",
    "import pandas as pd #Importation de la librairie pandas pour manipuler les CSV\n",
    "import matplotlib.pyplot as plt #Importation des librairries matplotlib, numpy et scipy pour tracer la courbe\n",
    "import numpy as np\n",
    "from scipy.interpolate import make_interp_spline\n",
    " \n",
    "def ecrire():\n",
    "    data = {\"x\":[],\"y\":[]} #On crée un dictionnaire qui stockera toutes les données calculées\n",
    "    for i in range(-5,6,1): #On crée une boucle allant de -5 à 5 pour calculer les données demandées\n",
    "        data[\"x\"].append(i) #On ajoute le x dans la liste correspondant à x\n",
    "        data[\"y\"].append(cos(i)) #On ajoute cos de x dans la liste correspondant à y\n",
    "    dataf = pd.DataFrame.from_dict(data) #On transforme le dictionnaire en DataFrame de pandas\n",
    "    dataf.to_csv(r\"math.csv\",index=False,header=True) #On écrit le DataFrame dans un fichier csv\n",
    " \n",
    " \n",
    "def lire():\n",
    "    data = pd.read_csv(\"math.csv\",usecols=[\"x\",\"y\"]) #On ouvre le fichier csv en précisant le nom des en-têtes de colonnes\n",
    "    x=np.array(data[\"x\"].tolist()) #On tranforme la partie \"x\" du DataFrame en un array\n",
    "    y=np.array(data[\"y\"].tolist()) #On tranforme la partie \"y\" du DataFrame en un array\n",
    "    model=make_interp_spline(x, y) #On lisse les données pour obtenir une courbe lisse et non une ligne brisée\n",
    "    xs=np.linspace(-5,5,500)\n",
    "    ys=model(xs)\n",
    "    plt.plot(xs,ys) #On entre les données lissées dans le graphique\n",
    "    plt.show() #On affiche le graphique\n",
    "\n",
    "\n",
    "def main() :\n",
    "    ecrire()\n",
    "    lire()\n",
    "\n",
    "\n",
    "if __name__ == '__main__' :\n",
    "    main()"
   ]
  },
  {
   "cell_type": "markdown",
   "id": "630f79d5",
   "metadata": {},
   "source": [
    "Ayant vu le module pandas en TD, nous avons choisi de l’utiliser pour réaliser cet exercice. On utilise d’abord une boucle qui entre les valeurs de cos de x pour x allant de -5 à 5 et entre ces valeurs dans une liste contenue dans un dictionnaire. L’utilisation d’un dictionnaire plutôt que deux listes permet de faciliter la transformation en un DataFrame de pandas pour ensuite entrer les données dans un fichier csv. Pour la lecture des fichiers, on utilise une nouvelle fois le module pandas qui nous permet non seulement de lire le fichier en prenant en compte les en-têtes en tant qu’en-tête et non en tant que données mais aussi de le lire par colonne et non par ligne. On utilise ensuite les modules numpy et scipy afin de calculer à partir des 10 données entrées d’autres valeurs permettant d’obtenir une courbe lisse. On utilise enfin la fonction plot() de matplotlib pour définir la courbe et show() pour afficher la courbe.\n"
   ]
  },
  {
   "cell_type": "markdown",
   "id": "9a585184",
   "metadata": {},
   "source": [
    "### Version 2 (ne respecte peut-être pas la consigne car l'incrémentation n'est pas de 1)"
   ]
  },
  {
   "cell_type": "code",
   "execution_count": 1,
   "id": "74c5031d",
   "metadata": {},
   "outputs": [
    {
     "name": "stdout",
     "output_type": "stream",
     "text": [
      "['-5.0', '0.28366218546322625']\n",
      "['-4.9', '0.18651236942257576']\n",
      "['-4.8', '0.0874989834394464']\n",
      "['-4.7', '-0.01238866346289056']\n",
      "['-4.6', '-0.11215252693505487']\n",
      "['-4.5', '-0.2107957994307797']\n",
      "['-4.4', '-0.30733286997841935']\n",
      "['-4.3', '-0.40079917207997545']\n",
      "['-4.2', '-0.4902608213406994']\n",
      "['-4.1', '-0.5748239465332692']\n",
      "['-4.0', '-0.6536436208636119']\n",
      "['-3.9', '-0.7259323042001402']\n",
      "['-3.8', '-0.7909677119144168']\n",
      "['-3.7', '-0.848100031710408']\n",
      "['-3.6', '-0.896758416334147']\n",
      "['-3.5', '-0.9364566872907963']\n",
      "['-3.4', '-0.9667981925794611']\n",
      "['-3.3', '-0.9874797699088649']\n",
      "['-3.2', '-0.9982947757947531']\n",
      "['-3.1', '-0.9991351502732795']\n",
      "['-3.0', '-0.9899924966004454']\n",
      "['-2.9', '-0.9709581651495905']\n",
      "['-2.8', '-0.9422223406686581']\n",
      "['-2.7', '-0.9040721420170612']\n",
      "['-2.6', '-0.8568887533689473']\n",
      "['-2.5', '-0.8011436155469337']\n",
      "['-2.4', '-0.7373937155412454']\n",
      "['-2.3', '-0.666276021279824']\n",
      "['-2.2', '-0.5885011172553458']\n",
      "['-2.1', '-0.5048461045998576']\n",
      "['-2.0', '-0.4161468365471424']\n",
      "['-1.9', '-0.32328956686350335']\n",
      "['-1.8', '-0.2272020946930871']\n",
      "['-1.7', '-0.12884449429552464']\n",
      "['-1.6', '-0.029199522301288815']\n",
      "['-1.5', '0.0707372016677029']\n",
      "['-1.4', '0.16996714290024104']\n",
      "['-1.3', '0.26749882862458735']\n",
      "['-1.2', '0.3623577544766736']\n",
      "['-1.1', '0.4535961214255773']\n",
      "['-1.0', '0.5403023058681398']\n",
      "['-0.9', '0.6216099682706644']\n",
      "['-0.8', '0.6967067093471654']\n",
      "['-0.7', '0.7648421872844885']\n",
      "['-0.6', '0.8253356149096783']\n",
      "['-0.5', '0.8775825618903728']\n",
      "['-0.4', '0.9210609940028851']\n",
      "['-0.3', '0.955336489125606']\n",
      "['-0.2', '0.9800665778412416']\n",
      "['-0.1', '0.9950041652780258']\n",
      "['0.0', '1.0']\n",
      "['0.1', '0.9950041652780258']\n",
      "['0.2', '0.9800665778412416']\n",
      "['0.3', '0.955336489125606']\n",
      "['0.4', '0.9210609940028851']\n",
      "['0.5', '0.8775825618903728']\n",
      "['0.6', '0.8253356149096783']\n",
      "['0.7', '0.7648421872844885']\n",
      "['0.8', '0.6967067093471654']\n",
      "['0.9', '0.6216099682706644']\n",
      "['1.0', '0.5403023058681398']\n",
      "['1.1', '0.4535961214255773']\n",
      "['1.2', '0.3623577544766736']\n",
      "['1.3', '0.26749882862458735']\n",
      "['1.4', '0.16996714290024104']\n",
      "['1.5', '0.0707372016677029']\n",
      "['1.6', '-0.029199522301288815']\n",
      "['1.7', '-0.12884449429552464']\n",
      "['1.8', '-0.2272020946930871']\n",
      "['1.9', '-0.32328956686350335']\n",
      "['2.0', '-0.4161468365471424']\n",
      "['2.1', '-0.5048461045998576']\n",
      "['2.2', '-0.5885011172553458']\n",
      "['2.3', '-0.666276021279824']\n",
      "['2.4', '-0.7373937155412454']\n",
      "['2.5', '-0.8011436155469337']\n",
      "['2.6', '-0.8568887533689473']\n",
      "['2.7', '-0.9040721420170612']\n",
      "['2.8', '-0.9422223406686581']\n",
      "['2.9', '-0.9709581651495905']\n",
      "['3.0', '-0.9899924966004454']\n",
      "['3.1', '-0.9991351502732795']\n",
      "['3.2', '-0.9982947757947531']\n",
      "['3.3', '-0.9874797699088649']\n",
      "['3.4', '-0.9667981925794611']\n",
      "['3.5', '-0.9364566872907963']\n",
      "['3.6', '-0.896758416334147']\n",
      "['3.7', '-0.848100031710408']\n",
      "['3.8', '-0.7909677119144168']\n",
      "['3.9', '-0.7259323042001402']\n",
      "['4.0', '-0.6536436208636119']\n",
      "['4.1', '-0.5748239465332692']\n",
      "['4.2', '-0.4902608213406994']\n",
      "['4.3', '-0.40079917207997545']\n",
      "['4.4', '-0.30733286997841935']\n",
      "['4.5', '-0.2107957994307797']\n",
      "['4.6', '-0.11215252693505487']\n",
      "['4.7', '-0.01238866346289056']\n",
      "['4.8', '0.0874989834394464']\n",
      "['4.9', '0.18651236942257576']\n",
      "['5.0', '0.28366218546322625']\n"
     ]
    },
    {
     "data": {
      "image/png": "[encoded data removed]",
      "text/plain": [
       "<Figure size 432x288 with 1 Axes>"
      ]
     },
     "metadata": {
      "needs_background": "light"
     },
     "output_type": "display_data"
    }
   ],
   "source": [
    "import csv  #On impote toutes les librairies que l'on va utiliser\n",
    "import numpy as np\n",
    "import matplotlib.pyplot as plt\n",
    "\n",
    "def ecrire() :\n",
    "   with open(\"math.csv\", \"w\", newline='') as fichier :  #on ouvre/crée le fichier math.csv et on fait ensorte qu'il n'y ait pas de retour à laligne non nécessaire\n",
    "       math = csv.writer(fichier)\n",
    "       for i in range(-50,51, 1) :  #On fait une boucle afin de stocker suffisament de valeur entre -5 et 5\n",
    "           x = i/10\n",
    "           y = np.cos(x)\n",
    "           math.writerow([x,y])     #Chaque ligne sera donc composée de la valeur du x et ensuite de celle du y\n",
    "    \n",
    "           \n",
    "def lire() :\n",
    "    x = []      #On crée deux listes vides qui vont ensuite contenir les valeurs de x et y\n",
    "    y = []\n",
    "    with open(\"math.csv\", \"r\", newline='') as fichier :     #On ouvre le fichier et on le lit\n",
    "        contenu = csv.reader(fichier)\n",
    "        for i in contenu :\n",
    "            print(i)    #On affiche le fichier\n",
    "            x.append(float(i[0]))       #On ajoutes les valeurs de x et les valeurs de y dans leurs listes respectives\n",
    "            y.append(float(i[1]))\n",
    "    plt.xlim(-6 ,6)     #On délimite l'affichage\n",
    "    plt.ylim(-1.2, 1.2)\n",
    "    plt.plot(x, y)      #On trace la courbe\n",
    "    plt.title(\"Fonction cosinus\")       #On donne un titre au graphique\n",
    "    plt.show()      #On affiche le graphique\n",
    "\n",
    "\n",
    "def main() :\n",
    "    ecrire()\n",
    "    lire()\n",
    "\n",
    "\n",
    "if __name__ == '__main__' :\n",
    "    main()\n"
   ]
  },
  {
   "cell_type": "markdown",
   "id": "87846b60",
   "metadata": {},
   "source": [
    "On commence par importer les librairies qui nous seront utiles. On crée ensuite la fonction ecrire dans la quelle on ouvre/crée notre fichier math.csv.On ouvre donc en mode écriture, on rajoute \"newline='\" afin d'éviter que (sous windows) il y ait un saut de ligne entre chaque couple de valeur. On initialise ensuite l'écriture. Pour que notre fonction soit réaliste et ne ressemble pas à des droites tirées entre 4 ou 5 points on a besoin de beaucoup de valeurs. C'est pourquoi on va importer les valeurs de la fonction entre -5 et 5 avec un pas de 0,1. Pour ce faire on crée une boucle for i in range et on multiplie nos valeurs par 10. Ce qui nous donne de -50 à -51 de 1 en 1. On devra ensuite diviser x par 10 pour retomber sur les valeurs de -5 à 5. On met ensuite ces valeurs dans notre fichier. Une ligne du fichier comportera donc la valeur de x suivie de la valeur de y.\n",
    "On s'occupe ensuite de la fonction lire. On commence par créer deux listes vides x et y qui contieront les valeurs de la fonction. On ouvre notre fichier en mode lecture et on le lit à l'aide d'une fonction de la librairie csv. On fait ensuite une boucle qui va nous permettre d'afficher le fichier et de mettre les valeurs de x dans la liste x et les valeurs de y dans la liste y. On délimite ensuite l'affichage, on trace la courbe, on donne un titre au graphique et on l'affiche."
   ]
  }
 ],
 "metadata": {
  "kernelspec": {
   "display_name": "Python 3 (ipykernel)",
   "language": "python",
   "name": "python3"
  },
  "language_info": {
   "codemirror_mode": {
    "name": "ipython",
    "version": 3
   },
   "file_extension": ".py",
   "mimetype": "text/x-python",
   "name": "python",
   "nbconvert_exporter": "python",
   "pygments_lexer": "ipython3",
   "version": "3.9.7"
  }
 },
 "nbformat": 4,
 "nbformat_minor": 5
}
